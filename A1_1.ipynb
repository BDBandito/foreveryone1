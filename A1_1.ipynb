{
  "nbformat": 4,
  "nbformat_minor": 0,
  "metadata": {
    "colab": {
      "provenance": [],
      "authorship_tag": "ABX9TyM6Q5AMgCpwRE8h7oaLLL4P",
      "include_colab_link": true
    },
    "kernelspec": {
      "name": "python3",
      "display_name": "Python 3"
    },
    "language_info": {
      "name": "python"
    }
  },
  "cells": [
    {
      "cell_type": "markdown",
      "metadata": {
        "id": "view-in-github",
        "colab_type": "text"
      },
      "source": [
        "<a href=\"https://colab.research.google.com/github/BDBandito/foreveryone1/blob/main/A1_1.ipynb\" target=\"_parent\"><img src=\"https://colab.research.google.com/assets/colab-badge.svg\" alt=\"Open In Colab\"/></a>"
      ]
    },
    {
      "cell_type": "markdown",
      "source": [
        "**1.1**\n",
        "\n",
        "The liquid drop model determines the binding energy of a nucleus to be:\n",
        "\n",
        "$$\n",
        "BE(Z, A) = a_V A - a_S A^{2/3} - a_C \\frac{Z^2}{A^{1/3}} - a_A \\frac{(Z - A/2)^2}{A} + \\frac{a_P}{A^{1/2}} \\delta(Z, A)\n",
        "$$\n",
        "\n",
        "$a_v, a_s, a_C, a_A$ and $a_P$ are all constants and given by table 1. A is the mass number and Z is the atom number of a specified nucleus. $δ(A,Z)$ is determined by:\n",
        "\n",
        "$$\n",
        "\\begin{aligned}\n",
        "\\delta(A, Z) =\n",
        "\\begin{cases}\n",
        "1, & \\text{if } Z \\text{ even, } N \\text{ even } (A \\text{ even}) \\\\\n",
        "0, & \\text{if } A \\text{ odd} \\\\\n",
        "-1, & \\text{if } Z \\text{ odd, } N \\text{ odd } (A \\text{ even})\n",
        "\\end{cases}\n",
        "\\end{aligned}\n",
        "$$\n",
        "\n",
        "Below, the binding energies of ${}^{237}\\text{Np}$ and ${}^{238}\\text{Np}$ are calculated using the liquid drop model."
      ],
      "metadata": {
        "id": "0tToGdZSTCNr"
      }
    },
    {
      "cell_type": "code",
      "execution_count": 7,
      "metadata": {
        "colab": {
          "base_uri": "https://localhost:8080/"
        },
        "id": "7I5Inog7Qw5E",
        "outputId": "ca4fd293-79a4-46ba-f3d0-64f1eeea2b48"
      },
      "outputs": [
        {
          "output_type": "stream",
          "name": "stdout",
          "text": [
            "    Isotope  Binding Energy (GeV)\n",
            "0  93Np-237              1.992529\n",
            "1  93Np-238              2.004780\n"
          ]
        }
      ],
      "source": [
        "import numpy as np\n",
        "import pandas as pd\n",
        "\n",
        "def pairing_delta(Z, A):\n",
        "    if A % 2 == 1:  # Odd mass number\n",
        "        return 0\n",
        "    elif Z % 2 == 0:  # Even-even nucleus\n",
        "        return 1\n",
        "    else:  # Odd-odd nucleus\n",
        "        return -1\n",
        "\n",
        "# Constants from table 1 [GeV]\n",
        "a_V = 0.01567\n",
        "a_S = 0.01723\n",
        "a_C = 0.000714\n",
        "a_A = 0.02315\n",
        "a_P = 0.0112\n",
        "\n",
        "# Neptunium properties\n",
        "Z = 93  # Atomic number of Np\n",
        "A_values = [237, 238]  # Mass numbers for Np-237 and Np-238\n",
        "\n",
        "def binding_energy(A, Z):\n",
        "    strong_force = a_V * A\n",
        "    surface_tension = a_S * A**(2/3)\n",
        "    coulomb_repulsion = a_C * (Z**2) / A**(1/3)\n",
        "    asymmetry = a_A * ((Z - A / 2)**2) / A\n",
        "    spin_coupling = (a_P / A**0.5) * pairing_delta(Z, A)\n",
        "\n",
        "    B = strong_force - surface_tension - coulomb_repulsion - asymmetry + spin_coupling\n",
        "    return B\n",
        "\n",
        "# Compute  binding energies for Np-237 and Np-238\n",
        "binding_energies = {A: binding_energy(A, Z) for A in A_values}\n",
        "\n",
        "# Printing results\n",
        "df = pd.DataFrame({\n",
        "    \"Isotope\": [f\"{Z}Np-{A}\" for A in A_values],\n",
        "    \"Binding Energy (GeV)\": [binding_energies[A] for A in A_values]\n",
        "})\n",
        "\n",
        "print(df)\n",
        "\n",
        "\n"
      ]
    },
    {
      "cell_type": "markdown",
      "source": [
        "**1.2**\n",
        "\n",
        "The nuclear data presented in the table below was retrieved from the KAERI Nuclear Data Center {https://atom.kaeri.re.kr/nuchart/?zlv=1#}.\n",
        "\n",
        "\\begin{array}{|c|c|c|}\n",
        "\\hline\n",
        "\\text{Isotope} & \\text{Binding Energy KAERI (GeV)} & \\text{Binding Energy Calculated (GeV)}\\\\\n",
        "\\hline\n",
        "^{237}\\text{Np} & 1.79525 & 1.99253\\\\\n",
        "^{238}\\text{Np} & 1.80076 & 2.00478\\\\\n",
        "\\hline\n",
        "\\end{array}\n",
        "\n",
        "There is a difference of about $0.2\\ GeV$ between the tabulated and calculated values."
      ],
      "metadata": {
        "id": "RY1p-_o8bDCj"
      }
    },
    {
      "cell_type": "markdown",
      "source": [
        "**1.3**\n",
        "\n",
        "The exhitation energy is given by:\n",
        "\n",
        "$$\n",
        "E_{exc} = BE({}^{237}Np)+ E_{neutron}+ KE_{neutron} - BE({}^{238}Np)\n",
        "$$\n",
        "\n",
        "$KE_{neutron}$ is assumed to be $\\approx0$"
      ],
      "metadata": {
        "id": "U3UlehedBrlc"
      }
    },
    {
      "cell_type": "code",
      "source": [
        "E_neutron = 0.93957 # GeV\n",
        "\n",
        "E_exc = binding_energies[237] + E_n - binding_energies[238]\n",
        "print(\"Excitation energy in GeV\")\n",
        "print(np.abs(E_exc))"
      ],
      "metadata": {
        "colab": {
          "base_uri": "https://localhost:8080/"
        },
        "id": "UZud0SQWBUyx",
        "outputId": "82ab45cb-8a10-4b4e-90c0-282da481c8be"
      },
      "execution_count": 12,
      "outputs": [
        {
          "output_type": "stream",
          "name": "stdout",
          "text": [
            "energy in GeV\n",
            "0.012250934751214748\n"
          ]
        }
      ]
    },
    {
      "cell_type": "markdown",
      "source": [
        "**1.4**\n",
        "\n",
        "Calculated excitation energy is $12.5\\ MeV$ and the neutron separation energy grabbed from the internet for ${}^{238}Np$ is about $5.4\\ MeV$. The difference is then $7.1\\ MeV$."
      ],
      "metadata": {
        "id": "i1m0BQRnOmpO"
      }
    },
    {
      "cell_type": "markdown",
      "source": [
        "**1.5**\n",
        "\n",
        "The critical energy is given by:\n",
        "\n",
        "$$\n",
        "E_c = A^{\\frac{2}{3}} \\cdot \\left( 0.884 - 0.01989 \\cdot \\frac{Z^2}{A} \\right)\n",
        "$$\n",
        "\n",
        "The critical energy for Np37 is provided below.\n"
      ],
      "metadata": {
        "id": "IGgUIQnmVAAE"
      }
    },
    {
      "cell_type": "code",
      "source": [
        "def E_c(A, Z):\n",
        "    return (A**(2/3)) * (0.884 - 0.01989 * (Z**2 / A))\n",
        "\n",
        "A = 237  # Mass number Np37\n",
        "Z = 93   # Atomic numbe Np37\n",
        "\n",
        "E_c_value = E_c(A, Z)\n",
        "print(f\"E_c = {E_c_value} MeV\")\n"
      ],
      "metadata": {
        "colab": {
          "base_uri": "https://localhost:8080/"
        },
        "id": "CdZ5pP4gU4Vg",
        "outputId": "8bd419a6-af3e-4dd3-945b-9d72dc528aed"
      },
      "execution_count": 14,
      "outputs": [
        {
          "output_type": "stream",
          "name": "stdout",
          "text": [
            "E_c = 6.056332798722767 MeV\n"
          ]
        }
      ]
    },
    {
      "cell_type": "markdown",
      "source": [
        "**1.6**\n",
        "\n",
        "Because $E_{exc}$ is higher than $E_c$, the isotope is fissile.  "
      ],
      "metadata": {
        "id": "Rs4byWKPcMxe"
      }
    }
  ]
}