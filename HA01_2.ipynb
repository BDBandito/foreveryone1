{
  "cells": [
    {
      "cell_type": "markdown",
      "metadata": {
        "id": "view-in-github",
        "colab_type": "text"
      },
      "source": [
        "<a href=\"https://colab.research.google.com/github/BDBandito/foreveryone1/blob/main/HA01_2.ipynb\" target=\"_parent\"><img src=\"https://colab.research.google.com/assets/colab-badge.svg\" alt=\"Open In Colab\"/></a>"
      ]
    },
    {
      "cell_type": "markdown",
      "metadata": {
        "id": "gNJAlDNtuR99"
      },
      "source": [
        "# HA01-2\n",
        "### Plotting the binding energy curve\n",
        "\n",
        "Please give your name below:"
      ]
    },
    {
      "cell_type": "code",
      "execution_count": null,
      "metadata": {
        "id": "SYE0OJJzuR-D"
      },
      "outputs": [],
      "source": [
        "name='Oskar Andersson'"
      ]
    },
    {
      "cell_type": "markdown",
      "metadata": {
        "id": "SQWDC6GeuR-F"
      },
      "source": [
        "The minimum energy required to disassemble the nucleus of an atom into its components is the binding energy. In this exercise you are going to compute the binding energy per nucleon for several nuclides in two ways:\n",
        "\n",
        "1. based on the relative atomic mass of the nuclides\n",
        "2. based on a semi-empirical formula.\n",
        "\n",
        "If we substract the mass of the nucleus from the mass of the nucleons and express it in energy unit we get the binding energy:\n",
        "\n",
        "$B(A,Z)=[Z\\cdot m_p+(A-Z)\\cdot m_n-M(A,Z)]c^2$\n",
        "\n",
        "For a given nuclide one can estimate the binding energy with the semi-empirical Bethe–Weizsäcker formula, which has various forms in literature. Here you can use the following form:\n",
        "\n",
        "$B(A,Z)=15.75A-94.8\\frac{(A/2 - Z)^2}{A}-17.8A^{2/3}-0.71Z^2A^{-1/3}+34\\delta A^{-3/4}$\n",
        "\n",
        "where $\\delta = 1$ for even-even nuclei, $\\delta = -1$ for odd-odd nuclei and $\\delta = 0$ otherwise.\n",
        "\n",
        "(Note: that all terms in the formula have a physical meaning: volume term, assymmetry term, surface term, Coulomb term and pairing term. Make sure based on the text book that you understand these).\n",
        "\n",
        "In the first formula one can express the neutron and proton mass in unified mass units (u). Also notice, that in most tabulated data (also here) you can only look up the relative atom mass of isotopes, and not the mass of the nucleus, thus the mass of the electrons needs to be taken into account as well. The reason for this is that for high Z isotopes it is difficult to remove all the electrons, so the neutral atoms are measured instead.\n",
        "\n",
        "This exercises is a guided exercise, you will essentially need to write two lines of code, and make sure you understand the other parts.\n",
        "\n",
        "Your task is to\n",
        "\n",
        "1. Find out which nuclide is the most binded?\n",
        "2. Discuss for which energies does the semi empirical formula give reasonable results. (You can check the literature to see what is the expectation).\n",
        "\n",
        "Let us first define the constants, and import python libraries."
      ]
    },
    {
      "cell_type": "code",
      "execution_count": 1,
      "metadata": {
        "id": "oaWtswssuR-I"
      },
      "outputs": [],
      "source": [
        "import numpy as np\n",
        "import matplotlib.pyplot as plt\n",
        "me=5.48579909070e-4 #u\n",
        "mn=1.00866491588    #u\n",
        "mp=1.007276466621   #u\n",
        "muc2=931.49410242 #MeV"
      ]
    },
    {
      "cell_type": "markdown",
      "metadata": {
        "id": "zSOhugx7uR-K"
      },
      "source": [
        "Then you are given the relative mass (in unified mass units) of several nuclides  (downloaded from https://physics.nist.gov/cgi-bin/Compositions/stand_alone.pl?ele=&ascii=html) as a python nested dictionary. Dictionaries are used to store data values in key:value pairs. It is basically an unorder array with \"named\" columns. In this case the outer keys are nuclide identifiers, and the values are also dictionaries, with the keys being Z, A and m."
      ]
    },
    {
      "cell_type": "code",
      "execution_count": 2,
      "metadata": {
        "id": "0fDAwWCxuR-L"
      },
      "outputs": [],
      "source": [
        "nuclides={'H2': {'Z': 1, 'A': 2, 'm': 2.01410177812},\n",
        "        'H3': {'Z': 1, 'A': 3, 'm': 3.0160492779},\n",
        "        'He3': {'Z': 2, 'A': 3, 'm': 3.0160293201},\n",
        "        'He4': {'Z': 2, 'A': 4, 'm': 4.002603254},\n",
        "        'Li6': {'Z': 3, 'A': 6, 'm': 6.0151228874},\n",
        "        'O16': {'Z': 8, 'A': 16, 'm': 15.99491461957},\n",
        "        'S34': {'Z': 16, 'A': 34, 'm': 33.96786701},\n",
        "        'Fe56': {'Z': 26, 'A': 56, 'm': 55.9349375},\n",
        "        'Ni62': {'Z': 28, 'A': 62, 'm': 61.92834537},\n",
        "        'Kr84': {'Z': 36, 'A': 84, 'm': 83.9114977282},\n",
        "        'Sn119': {'Z': 50, 'A': 119, 'm': 118.90331117},\n",
        "        'Ti205': {'Z': 81, 'A': 205, 'm': 204.9744278},\n",
        "        'U238': {'Z': 92, 'A': 238, 'm': 238.0507884}}\n"
      ]
    },
    {
      "cell_type": "markdown",
      "metadata": {
        "id": "Z7eBTT4ruR-M"
      },
      "source": [
        "If you want to access a given value, you can do this:"
      ]
    },
    {
      "cell_type": "code",
      "execution_count": 3,
      "metadata": {
        "id": "ahkN8jFRuR-O",
        "colab": {
          "base_uri": "https://localhost:8080/"
        },
        "outputId": "17374b20-c2e1-4920-f956-7b716db518e8"
      },
      "outputs": [
        {
          "output_type": "stream",
          "name": "stdout",
          "text": [
            "{'Z': 92, 'A': 238, 'm': 238.0507884}\n"
          ]
        }
      ],
      "source": [
        "print(nuclides['U238'])"
      ]
    },
    {
      "cell_type": "markdown",
      "metadata": {
        "id": "sBGKH7o1uR-P"
      },
      "source": [
        "Or you can go one level deeper:"
      ]
    },
    {
      "cell_type": "code",
      "execution_count": 4,
      "metadata": {
        "id": "MQz7KZjUuR-Q",
        "colab": {
          "base_uri": "https://localhost:8080/"
        },
        "outputId": "c06a5e34-2661-48e9-cc87-1e7222f218f0"
      },
      "outputs": [
        {
          "output_type": "stream",
          "name": "stdout",
          "text": [
            "238.0507884\n"
          ]
        }
      ],
      "source": [
        "print(nuclides['U238']['m'])"
      ]
    },
    {
      "cell_type": "markdown",
      "metadata": {
        "id": "sM5jYGo6uR-S"
      },
      "source": [
        "Now you have to implement functions to evaluate the binding energy per nucleon based on the two formulas above:"
      ]
    },
    {
      "cell_type": "code",
      "execution_count": 7,
      "metadata": {
        "id": "WzCuRlxsuR-S"
      },
      "outputs": [],
      "source": [
        "def BAZ(A,Z,m):\n",
        "    eps= ((Z * mp) + ((A - Z) * mn) - m) * muc2\n",
        "    return eps/A\n",
        "\n",
        "def BAZ_BW(A,Z):\n",
        "    N=A-Z\n",
        "    if Z%2==0 and N%2==0:\n",
        "        D=1\n",
        "    elif Z%2!=0 and N%2!=0:\n",
        "        D=-1\n",
        "    else:\n",
        "        D=0\n",
        "    eps= (15.75 * A - 94.8 * ((A / 2 - Z) ** 2) / A - 17.8 * (A ** (2 / 3)) - 0.71 * (Z ** 2) * (A ** (-1 / 3)) + 34 * D * (A ** (-3 / 4)))\n",
        "\n",
        "    return eps/A\n"
      ]
    },
    {
      "cell_type": "markdown",
      "metadata": {
        "id": "Kl2BHh_QuR-T"
      },
      "source": [
        "Now you have to use this function for all the entries in the dictionary."
      ]
    },
    {
      "cell_type": "code",
      "execution_count": 8,
      "metadata": {
        "id": "AomhflBhuR-T"
      },
      "outputs": [],
      "source": [
        "for nuclide in nuclides.values():\n",
        "    nuclide['eps']=BAZ(nuclide['A'],nuclide['Z'],nuclide['m']) #we call the function and\n",
        "    nuclide['epsBW']=BAZ_BW(nuclide['A'],nuclide['Z'])         #create new keys in the dictionary\n"
      ]
    },
    {
      "cell_type": "code",
      "execution_count": null,
      "metadata": {
        "id": "kZ-NT0AsuR-U"
      },
      "outputs": [],
      "source": [
        "#here you can look at the values in the dictionary. just uncomment the next line\n",
        "#nuclides"
      ]
    },
    {
      "cell_type": "markdown",
      "metadata": {
        "id": "MAcGpG-cuR-V"
      },
      "source": [
        "We create lists out of the values in the inner dictionary to make plotting simpler."
      ]
    },
    {
      "cell_type": "code",
      "execution_count": 9,
      "metadata": {
        "id": "0Ukopz2QuR-V"
      },
      "outputs": [],
      "source": [
        "labels=nuclides.keys()\n",
        "As = [nuclides[nucl].get('A','') for nucl in nuclides] #i create lists for plotting\n",
        "Eps = [nuclides[nucl].get('eps','') for nucl in nuclides]\n",
        "EpsBW = [nuclides[nucl].get('epsBW','') for nucl in nuclides]"
      ]
    },
    {
      "cell_type": "code",
      "execution_count": 10,
      "metadata": {
        "id": "X0y5Ntn1uR-W",
        "colab": {
          "base_uri": "https://localhost:8080/",
          "height": 458
        },
        "outputId": "fcfe63f1-eb36-4ec6-ce29-46b850e4ff30"
      },
      "outputs": [
        {
          "output_type": "display_data",
          "data": {
            "text/plain": [
              "<Figure size 640x480 with 1 Axes>"
            ],
            "image/png": "[encoded data removed]"
          },
          "metadata": {}
        }
      ],
      "source": [
        "#nice plotting command where i made sure that the nuclide identifiers hopefully end up at the right place\n",
        "import matplotlib as mpl\n",
        "label_size = 12\n",
        "mpl.rcParams['xtick.labelsize'] = label_size\n",
        "mpl.rcParams['ytick.labelsize'] = label_size\n",
        "plt.figure()\n",
        "plt.plot(As,Eps,'ro',label='real')\n",
        "plt.plot(As,Eps,'k-')\n",
        "plt.plot(As,EpsBW,'x--',label='semi empirical')\n",
        "for A,E,l in zip(As,Eps,labels):\n",
        "    if l=='Ni62':\n",
        "        plt.annotate(l,(A-4,E*0.92),fontsize=12)\n",
        "    elif l=='O16':\n",
        "        plt.annotate(l,(A-13,E*1.04),fontsize=12)\n",
        "    elif l in ['H2','H3','He3','Li6']:\n",
        "        plt.annotate(l,(A+6.5,E*1.03),fontsize=12)\n",
        "    elif l in ['He4','S34','Fe56']:\n",
        "        plt.annotate(l,(A-9,E*1.04),fontsize=12)\n",
        "    else:\n",
        "        plt.annotate(l,(A-5,E*1.03),fontsize=12)\n",
        "plt.xlabel('A',fontsize=14)\n",
        "plt.ylim(0,9.5)\n",
        "plt.xlim(-5,260)\n",
        "plt.legend()\n",
        "plt.ylabel('Binding energy per nucleon (MeV)',fontsize=14)\n",
        "plt.show()\n"
      ]
    }
  ],
  "metadata": {
    "kernelspec": {
      "display_name": "Python 3",
      "language": "python",
      "name": "python3"
    },
    "language_info": {
      "codemirror_mode": {
        "name": "ipython",
        "version": 3
      },
      "file_extension": ".py",
      "mimetype": "text/x-python",
      "name": "python",
      "nbconvert_exporter": "python",
      "pygments_lexer": "ipython3",
      "version": "3.7.3"
    },
    "colab": {
      "provenance": [],
      "include_colab_link": true
    }
  },
  "nbformat": 4,
  "nbformat_minor": 0
}